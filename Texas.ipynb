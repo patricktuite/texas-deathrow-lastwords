{
 "cells": [
  {
   "cell_type": "code",
   "execution_count": 1,
   "metadata": {
    "collapsed": true
   },
   "outputs": [],
   "source": [
    "import sqlite3\n",
    "import requests\n",
    "from bs4 import BeautifulSoup\n",
    "import re\n",
    "from collections import Counter\n",
    "from nltk.corpus import stopwords"
   ]
  },
  {
   "cell_type": "code",
   "execution_count": 2,
   "metadata": {},
   "outputs": [
    {
     "data": {
      "text/plain": [
       "<sqlite3.Cursor at 0x1a12074420>"
      ]
     },
     "execution_count": 2,
     "metadata": {},
     "output_type": "execute_result"
    }
   ],
   "source": [
    "# create SQL DB\n",
    "conn = sqlite3.connect('texas.sqlite')\n",
    "cur = conn.cursor()\n",
    "\n",
    "cur.execute('''CREATE TABLE IF NOT EXISTS TexasInmate\n",
    "    (execution INTEGER UNIQUE, last_statement TEXT, age INTEGER,\n",
    "     execution_date TEXT, race TEXT, county TEXT)''')"
   ]
  },
  {
   "cell_type": "code",
   "execution_count": 3,
   "metadata": {
    "collapsed": true
   },
   "outputs": [],
   "source": [
    "# BeautifulSoup to pull out table and content rows\n",
    "url = 'http://www.tdcj.state.tx.us/death_row/dr_executed_offenders.html'\n",
    "page = requests.get(url)\n",
    "soup = BeautifulSoup(page.content, 'html.parser')\n",
    "table = soup.find('table')\n",
    "rows = table.find_all('tr')"
   ]
  },
  {
   "cell_type": "code",
   "execution_count": 4,
   "metadata": {
    "collapsed": true
   },
   "outputs": [],
   "source": [
    "# helper function\n",
    "\n",
    "base_url = 'http://www.tdcj.state.tx.us/death_row/dr_info/'\n",
    "\n",
    "def get_lastwords(link):\n",
    "    inmate = link.split('/')\n",
    "    inmate = inmate[-1]\n",
    "    if inmate != 'no_last_statement.html':\n",
    "        url = base_url + inmate\n",
    "        page = requests.get(url)\n",
    "        soup = BeautifulSoup(page.content, 'html.parser')\n",
    "        paragraphs = soup.find_all('p')\n",
    "        words_list = [x.get_text() for x in paragraphs]\n",
    "        words = ' '.join(words_list)\n",
    "        target = 'Last Statement: '\n",
    "        statement_index = words.find(target) + len(target)\n",
    "        last_statement = words[statement_index:]\n",
    "        stripped_words = re.sub('[^A-Za-z 0-9]+', '', last_statement)\n",
    "        list_of_words = stripped_words.split()\n",
    "\n",
    "        return ' '.join(list_of_words)\n",
    "    else:\n",
    "        return 'This offender declined to make a last statement.'"
   ]
  },
  {
   "cell_type": "code",
   "execution_count": 5,
   "metadata": {
    "collapsed": true
   },
   "outputs": [],
   "source": [
    "for row in rows:\n",
    "    if row.find_all('td'):\n",
    "        elements = row.find_all('td')\n",
    "        last_words = get_lastwords(elements[2].a['href'])\n",
    "        data = (elements[0].get_text(), last_words,\n",
    "                elements[6].get_text(),elements[7].get_text(),\n",
    "                elements[8].get_text(), elements[9].get_text())\n",
    "        cur.execute('''INSERT OR IGNORE INTO TexasInmate (execution,\n",
    "            last_statement, age, execution_date, race, county)\n",
    "            VALUES ( ?, ?, ?, ?, ?, ? )''', data)\n",
    "\n",
    "\n",
    "conn.commit()\n",
    "cur.close()"
   ]
  },
  {
   "cell_type": "code",
   "execution_count": 6,
   "metadata": {},
   "outputs": [
    {
     "data": {
      "text/plain": [
       "<sqlite3.Cursor at 0x1a12bac6c0>"
      ]
     },
     "execution_count": 6,
     "metadata": {},
     "output_type": "execute_result"
    }
   ],
   "source": [
    "stop_words = set(stopwords.words('english'))\n",
    "\n",
    "conn = sqlite3.connect('texas.sqlite')\n",
    "cur = conn.cursor()\n",
    "\n",
    "cur.execute('SELECT last_statement FROM TexasInmate')"
   ]
  },
  {
   "cell_type": "code",
   "execution_count": 7,
   "metadata": {
    "collapsed": true
   },
   "outputs": [],
   "source": [
    "bag_of_words = Counter()\n",
    "\n",
    "for statement in cur:\n",
    "    if statement[0] == 'This offender declined to make a last statement.':\n",
    "        continue\n",
    "    else:\n",
    "        words = statement[0].split()\n",
    "        new_word_list = []\n",
    "        for word in words:\n",
    "            if word in stop_words:\n",
    "                continue\n",
    "            else:\n",
    "                new_word_list.append(word)\n",
    "        bag_of_words.update(new_word_list)"
   ]
  },
  {
   "cell_type": "code",
   "execution_count": 8,
   "metadata": {},
   "outputs": [
    {
     "name": "stdout",
     "output_type": "stream",
     "text": [
      "Counter({'love': 761, 'family': 352, 'know': 337, 'sorry': 272, 'want': 247, 'would': 243, 'like': 231, 'God': 229, 'say': 195, 'thank': 176, 'hope': 160, 'life': 151, 'Lord': 149, 'forgive': 146, 'Thank': 129, 'people': 128, 'peace': 122, 'see': 117, 'one': 117, 'Jesus': 114, 'Warden': 104, 'done': 101, 'take': 95, 'tell': 93, 'strong': 92, 'pain': 91, 'go': 89, 'ready': 88, 'heart': 87, 'ask': 86, 'friends': 80, 'death': 80, 'get': 80, 'years': 79, 'find': 78, 'give': 78, 'right': 76, 'man': 75, 'everybody': 73, 'us': 70, 'time': 69, 'come': 69, 'This': 68, 'home': 67, 'keep': 66, 'He': 66, 'back': 65, 'care': 65, 'We': 65, 'could': 62, 'pray': 61, 'never': 61, 'always': 61, 'caused': 60, 'Christ': 59, 'forgiveness': 59, 'My': 57, 'way': 57, 'got': 57, 'Father': 57, 'good': 56, 'Thats': 56, 'didnt': 55, 'Ill': 54, 'loved': 53, 'It': 52, 'much': 52, 'let': 52, 'If': 52, 'everyone': 51, 'make': 51, 'innocent': 51, 'everything': 50, 'nothing': 49, 'lot': 48, 'day': 48, 'cant': 48, 'Tell': 47, 'stay': 47, 'said': 47, 'Ive': 46, 'apologize': 46, 'But': 46, 'statement': 45, 'sir': 45, 'support': 45, 'wish': 44, 'There': 43, 'world': 43, 'happened': 42, 'Allah': 42, 'really': 41, 'victims': 40, 'bless': 39, 'hate': 39, 'things': 39, 'Please': 38, 'All': 38, 'kill': 38, 'today': 37, 'still': 37, 'sister': 36, 'feel': 36, 'Take': 36, 'thing': 36, 'help': 35, 'anything': 35, 'last': 35, 'thats': 35, 'something': 35, 'hurt': 34, 'think': 34, 'wrong': 34, 'That': 34, 'Mr': 34, 'truly': 34, 'truth': 33, 'appreciate': 33, 'Its': 33, 'please': 32, 'understand': 32, 'ones': 32, 'must': 32, 'every': 31, 'row': 31, 'continue': 31, 'They': 31, 'may': 31, 'First': 30, 'made': 30, 'brother': 30, 'closure': 30, 'name': 30, 'Mom': 30, 'OK': 30, 'tonight': 30, 'ever': 29, 'die': 29, 'bring': 29, 'Texas': 29, 'For': 29, 'Heaven': 29, 'brothers': 29, 'Keep': 29, 'words': 28, 'place': 28, 'Dont': 28, 'justice': 27, 'mother': 27, 'better': 27, 'wanted': 27, 'spirit': 27, 'soul': 27, 'son': 27, 'murder': 27, 'Yall': 27, 'kids': 26, 'mom': 26, 'live': 26, 'mean': 26, 'told': 26, 'believe': 26, 'part': 26, 'first': 25, 'best': 25, 'move': 25, 'Give': 25, 'put': 25, 'shall': 25, 'long': 24, 'need': 24, 'wife': 24, 'anyone': 24, 'mercy': 24, 'guys': 24, 'hearts': 23, 'killed': 23, 'daughter': 23, 'Love': 23, 'killing': 23, 'No': 22, 'crime': 22, 'wont': 22, 'suffering': 22, 'father': 22, 'John': 22, 'look': 22, 'Ms': 22, 'When': 22, 'sins': 22, 'Death': 22, 'end': 21, 'also': 21, 'change': 21, 'else': 21, 'sure': 21, 'Amen': 21, 'heads': 21, 'Be': 21, 'thanks': 21, 'person': 21, 'happy': 20, 'gonna': 20, 'faith': 20, 'leave': 20, 'side': 20, 'talk': 20, 'real': 20, 'coming': 20, 'free': 20, 'Thy': 20, 'children': 19, 'May': 19, 'even': 19, 'though': 19, 'bad': 19, 'witness': 19, 'stop': 19, 'hold': 19, 'evil': 19, 'ah': 19, 'So': 18, 'goes': 18, 'forever': 18, 'taking': 18, 'letter': 18, 'friend': 18, 'alright': 18, 'head': 18, 'well': 18, 'What': 18, 'took': 18, 'beautiful': 18, 'strength': 18, 'baby': 18, 'great': 18, 'As': 18, 'two': 18, 'many': 18, 'thought': 18, 'Irene': 18, 'Now': 17, 'happening': 17, 'Let': 17, 'remember': 17, 'Lets': 17, 'waiting': 17, 'Stay': 17, 'wasnt': 17, 'hear': 17, 'gave': 17, 'Row': 17, 'left': 16, 'someone': 16, 'forgiven': 16, 'power': 16, 'without': 16, 'together': 16, 'heaven': 16, 'away': 16, 'youre': 16, 'anybody': 16, 'past': 15, 'Id': 15, 'cannot': 15, 'execution': 15, 'fight': 15, 'goodbye': 15, 'A': 15, 'came': 15, 'fear': 15, 'house': 15, 'little': 15, 'Jack': 15, 'trial': 15, 'brought': 15, 'forward': 15, 'Well': 14, 'later': 14, 'asked': 14, 'helped': 14, 'Life': 14, 'work': 14, 'learn': 14, 'given': 14, 'point': 14, 'system': 14, 'looking': 14, 'knew': 14, 'commit': 14, 'rest': 14, 'days': 14, 'reason': 14, 'saying': 14, 'call': 14, 'face': 14, 'Mama': 14, 'chance': 14, 'black': 14, 'deserve': 13, 'hard': 13, 'mad': 13, 'mine': 13, 'eyes': 13, 'knows': 13, 'happen': 13, 'forget': 13, 'guilty': 13, 'gone': 13, 'Goodbye': 13, 'prayer': 13, 'ago': 13, 'She': 13, 'cry': 13, 'America': 13, 'His': 13, 'state': 13, 'unto': 13, 'loving': 13, 'families': 13, 'holy': 13, 'ahead': 12, 'praise': 12, 'showed': 12, 'loss': 12, 'prison': 12, 'brings': 12, 'meant': 12, 'accept': 12, 'supporting': 12, 'lives': 12, 'lost': 12, 'Chaplain': 12, 'stand': 12, 'show': 12, 'Holy': 12, 'mistake': 12, 'standing': 12, 'kingdom': 12, 'Do': 12, 'earth': 12, 'comfort': 12, 'died': 12, 'shown': 12, 'Just': 12, 'someday': 11, 'dad': 11, 'case': 11, 'society': 11, 'carry': 11, 'Gods': 11, 'State': 11, 'matter': 11, 'walk': 11, 'sisters': 11, 'body': 11, 'behind': 11, 'Written': 11, 'Today': 11, 'true': 11, 'parents': 11, 'Thanks': 11, 'child': 11, 'glad': 11, 'Him': 11, 'police': 11, 'nobody': 11, 'cause': 11, 'giving': 11, 'around': 11, 'worry': 11, 'blessing': 11, 'Remember': 11, 'Okay': 11, 'address': 11, 'lie': 11, 'penalty': 11, 'men': 11, 'struggle': 11, 'able': 11, 'night': 10, 'Spanish': 10, 'promise': 10, 'guess': 10, 'In': 10, 'soon': 10, 'whole': 10, 'couldnt': 10, 'taken': 10, 'court': 10, 'loves': 10, 'momma': 10, 'respect': 10, 'another': 10, 'Bye': 10, 'return': 10, 'glory': 10, 'Mrs': 10, 'kind': 10, 'miss': 10, 'Our': 10, 'three': 10, 'called': 10, 'Praise': 10, 'hands': 10, 'lynching': 10, 'Mary': 9, 'moment': 9, 'attorneys': 9, 'trying': 9, 'One': 9, 'went': 9, 'send': 9, 'finished': 9, 'mistakes': 9, 'David': 9, 'fine': 9, 'supported': 9, 'aint': 9, 'anger': 9, 'somebody': 9, 'Michael': 9, 'Almighty': 9, 'human': 9, 'dead': 9, 'art': 9, 'thy': 9, 'country': 9, 'Donna': 9, 'committed': 9, 'ye': 9, 'Go': 8, 'supporters': 8, 'names': 8, 'King': 8, 'written': 8, 'express': 8, 'dearly': 8, 'showing': 8, 'grace': 8, 'isnt': 8, 'putting': 8, 'sentence': 8, 'happiness': 8, 'next': 8, 'Spoken': 8, 'full': 8, 'attorney': 8, 'doesnt': 8, 'hatred': 8, 'none': 8, 'law': 8, 'innocence': 8, 'friendship': 8, 'Not': 8, 'lets': 8, 'lay': 8, 'Son': 8, 'proud': 8, 'shot': 8, 'Bless': 8, 'sleep': 8, 'apology': 8, 'grief': 8, 'used': 8, 'dying': 8, 'big': 8, 'Heavenly': 8, 'members': 8, 'wonderful': 8, 'use': 8, 'Kathy': 8, 'lawyers': 8, 'Thou': 8, 'praying': 8, 'Dad': 8, 'act': 8, 'Forgive': 8, 'bitterness': 8, 'touch': 8, 'angry': 8, 'James': 8, 'toward': 8, 'allowed': 8, 'sake': 8, 'witnesses': 8, 'Theres': 8, 'evidence': 8, 'extend': 8, 'means': 7, 'meet': 7, 'final': 7, 'youve': 7, 'enough': 7, 'found': 7, 'actions': 7, 'hurting': 7, 'watch': 7, 'needs': 7, 'officers': 7, 'responsibility': 7, 'Robert': 7, 'fighting': 7, 'stuff': 7, 'special': 7, 'makes': 7, 'locked': 7, 'Momma': 7, 'wrote': 7, 'raised': 7, 'Even': 7, 'honor': 7, 'known': 7, 'changed': 7, 'paid': 7, 'precious': 7, 'times': 7, 'bear': 7, 'prove': 7, 'Bobby': 7, 'situation': 7, 'daily': 7, 'deliver': 7, 'tried': 7, 'telling': 7, 'sorrow': 7, 'future': 7, 'woman': 7, 'upon': 7, 'Because': 7, 'speak': 7, 'saved': 7, 'comes': 7, 'opportunity': 7, 'sin': 7, 'process': 7, 'confess': 7, 'regret': 7, 'merciful': 7, 'ways': 7, 'unintelligible': 7, 'marching': 7, 'press': 7, 'See': 6, 'others': 6, 'especially': 6, 'Jones': 6, 'close': 6, 'Yeah': 6, 'alive': 6, 'suffer': 6, 'received': 6, 'English': 6, 'pass': 6, 'probably': 6, 'trouble': 6, 'revenge': 6, 'ride': 6, 'girl': 6, 'Joe': 6, 'hand': 6, 'already': 6, 'needed': 6, 'journey': 6, 'experience': 6, 'Everything': 6, 'offender': 6, 'declined': 6, 'mind': 6, 'gives': 6, 'talked': 6, 'judge': 6, 'takes': 6, 'spiritual': 6, 'short': 6, 'lived': 6, 'Get': 6, 'talking': 6, 'job': 6, 'fixing': 6, 'save': 6, 'ya': 6, 'yet': 6, 'nieces': 6, 'involved': 6, 'Your': 6, 'American': 6, 'Mexico': 6, 'supposed': 6, 'grave': 6, 'injustice': 6, 'watching': 6, 'pay': 6, 'beside': 6, 'gain': 6, 'Sorry': 6, 'poor': 6, 'Look': 6, 'try': 6, 'enemies': 6, 'allow': 6, 'bread': 6, 'temptation': 6, 'Polunsky': 6, 'cases': 6, 'gun': 6, 'boy': 6, 'okay': 6, 'realize': 6, 'seek': 6, 'remorse': 6, 'reach': 6, 'getting': 6, 'responsible': 6, 'executed': 6, 'present': 6, 'West': 6, 'blessed': 6, 'follow': 6, 'freedom': 6, 'Oh': 6, 'convicted': 6, 'blessings': 6, 'tragedy': 6, 'media': 6, 'record': 6, 'forgotten': 6, 'Boswell': 6, 'Thomas': 5, 'prayers': 5, 'Steve': 5, 'stood': 5, 'clear': 5, 'Scott': 5, 'Grace': 5, 'explain': 5, 'trust': 5, 'behalf': 5, 'Cox': 5, 'Reverend': 5, 'At': 5, 'towards': 5, 'prayed': 5, 'From': 5, 'listen': 5, 'husband': 5, 'daughters': 5, 'Savior': 5, 'throughout': 5, 'ok': 5, 'sad': 5, 'guilt': 5, 'faithful': 5, 'Jennifer': 5, 'fact': 5, 'deal': 5, 'murdering': 5, 'Hell': 5, 'saw': 5, 'read': 5, 'Hey': 5, 'perfect': 5, 'Romans': 5, 'keeping': 5, 'church': 5, 'helping': 5, 'Can': 5, 'Did': 5, 'solve': 5, 'punishment': 5, 'Tonight': 5, 'Everybody': 5, 'nephews': 5, 'Continue': 5, 'type': 5, 'blame': 5, 'road': 5, 'asking': 5, 'set': 5, 'DNA': 5, 'crying': 5, 'start': 5, 'wake': 5, 'drug': 5, 'bye': 5, 'testimony': 5, 'belong': 5, 'forced': 5, 'green': 5, 'leadeth': 5, 'waters': 5, 'presence': 5, 'tears': 5, 'beat': 5, 'shine': 5, 'Danny': 5, 'lead': 5, 'living': 5, 'Why': 5, 'began': 5, 'lied': 5, 'salvation': 5, 'stopped': 5, 'Alright': 5, 'Blessed': 5, 'joy': 5, 'Sister': 5, 'Chris': 5, 'gets': 5, 'Make': 5, 'light': 5, 'Statement': 5, 'roll': 5, 'blood': 5, 'victim': 5, 'folks': 5, 'Like': 5, 'personal': 5, 'Richard': 5, 'Walsh': 5, 'nice': 5, 'suffered': 5, 'eye': 5, 'moratorium': 5, 'happens': 5, 'heard': 5, 'Officer': 5, 'whats': 5, 'sooner': 5, 'deeply': 5, 'public': 5, 'fathers': 5, 'wait': 5, 'Family': 4, 'By': 4, 'warden': 4, 'Barbara': 4, 'Maurie': 4, 'thankful': 4, 'foremost': 4, 'Justice': 4, 'answers': 4, 'Johnson': 4, 'maybe': 4, 'None': 4, 'proceed': 4, 'Randy': 4, 'capital': 4, 'positive': 4, 'different': 4, 'cousins': 4, 'helps': 4, 'beyond': 4, 'alone': 4, 'new': 4, 'Joanna': 4, 'forgave': 4, 'sons': 4, 'Brad': 4, 'Michelle': 4, 'least': 4, 'write': 4, 'letting': 4, 'careful': 4, 'young': 4, 'win': 4, 'Christian': 4, 'community': 4, 'accident': 4, 'touched': 4, 'uh': 4, 'wouldnt': 4, 'relief': 4, 'example': 4, 'easy': 4, 'demand': 4, 'lies': 4, 'youll': 4, 'Susan': 4, 'courts': 4, 'murders': 4, 'pop': 4, 'humanity': 4, 'feelings': 4, 'Connie': 4, 'truck': 4, 'killer': 4, 'daddy': 4, 'Ok': 4, 'Laura': 4, 'seeing': 4, 'Bill': 4, 'hurts': 4, 'spent': 4, '11': 4, 'angel': 4, 'Ready': 4, 'sinner': 4, 'leaving': 4, 'miracle': 4, 'old': 4, 'Linda': 4, 'turned': 4, 'taste': 4, 'Were': 4, 'Hallelujah': 4, 'born': 4, '1': 4, 'surely': 4, 'monster': 4, 'sincere': 4, 'heartache': 4, '13': 4, 'beginning': 4, 'Gary': 4, 'thinking': 4, 'theres': 4, '10': 4, 'Whiteside': 4, 'pastures': 4, 'paths': 4, 'Yea': 4, 'valley': 4, 'shadow': 4, 'thou': 4, 'preparest': 4, 'table': 4, 'oil': 4, 'cup': 4, 'runneth': 4, 'Carlos': 4, 'veins': 4, 'dog': 4, 'Aint': 4, 'Peace': 4, 'trespasses': 4, 'trespass': 4, 'execute': 4, 'disappointed': 4, 'upset': 4, 'Daddy': 4, 'Wilcox': 4, 'dungeon': 4, 'says': 4, 'Penalty': 4, 'singing': 4, 'Those': 4, 'Gomez': 4, 'Veronica': 4, 'book': 4, 'defense': 4, 'bringing': 4, 'Paul': 4, 'Adams': 4, 'ran': 4, 'late': 4, 'turn': 4, 'worth': 4, 'breath': 4, 'receive': 4, 'Uncle': 4, 'since': 4, 'phone': 4, 'spoke': 4, 'animosity': 4, 'arms': 4, 'grandmother': 4, 'met': 4, 'losing': 4, 'charge': 4, 'Court': 4, 'bury': 4, 'video': 4, 'smile': 4, 'Ray': 4, 'forgives': 4, '14': 4, 'several': 4, 'goodness': 4, 'dwell': 4, 'minutes': 4, 'Unit': 4, 'poem': 4, 'Mike': 4, 'due': 4, 'rights': 4, 'gotta': 4, 'shoot': 4, 'victory': 4, 'Rosalyn': 4, 'greatest': 4, 'gift': 4, 'gotten': 4, 'cost': 4, 'protect': 4, 'important': 4, 'wall': 4, 'officer': 4, 'car': 4, 'Dear': 4, 'wrongs': 4, 'although': 4, 'released': 4, 'smiling': 4, 'bottom': 4, 'appeals': 4, 'Eardmann': 4, 'line': 4, 'word': 4, 'executing': 4, 'knowledge': 4, 'Lords': 4, 'cross': 4, 'tongues': 4, 'With': 4, 'divine': 4, 'prophet': 4, 'em': 4, 'liberation': 4, 'necessary': 4, 'genocide': 4, 'deceased': 4, 'laugh': 4, 'Ah': 4, '24': 4, 'Price': 4, 'Gene': 4, 'prosecutor': 4, 'Mindy': 4, 'Pinkerton': 4, 'Asdadu': 4, 'Hi': 3, 'choices': 3, 'disappointment': 3, 'undo': 3, 'till': 3, 'Mexican': 3, 'government': 3, 'official': 3, 'Kehler': 3, 'begin': 3, 'Sabrina': 3, 'Dr': 3, 'Donovan': 3, 'changes': 3, 'California': 3, 'transition': 3, 'letters': 3, 'fought': 3, 'Brother': 3, 'girls': 3, 'Crazy': 3, 'J': 3, 'bro': 3, 'remind': 3, 'list': 3, 'familys': 3, 'Never': 3, 'lots': 3, 'almighty': 3, 'weve': 3, 'earlier': 3, 'decision': 3, 'hereby': 3, 'August': 3, 'Youre': 3, 'straight': 3, 'understanding': 3, 'dear': 3, 'transcripts': 3, 'paying': 3, 'hell': 3, 'room': 3, 'Carl': 3, 'Joey': 3, 'After': 3, 'half': 3, 'Some': 3, 'lady': 3, 'hero': 3, 'Hart': 3, 'Kim': 3, 'hug': 3, 'grateful': 3, 'Are': 3, 'Only': 3, 'completely': 3, 'trigger': 3, 'damn': 3, '2': 3, 'accepted': 3, 'carrying': 3, 'forgiving': 3, 'open': 3, 'satisfaction': 3, 'sing': 3, 'suicide': 3, 'Since': 3, 'Williams': 3, 'Alba': 3, 'Bob': 3, 'kindness': 3, 'feels': 3, 'gladly': 3, 'mourn': 3, 'test': 3, 'drugs': 3, 'decisions': 3, 'Jenny': 3, 'Dell': 3, 'fall': 3, 'maketh': 3, 'restoreth': 3, 'anointest': 3, 'Jackson': 3, 'Hold': 3, 'tight': 3, 'Sylvia': 3, 'ba': 3, 'bump': 3, 'On': 3, 'thine': 3, 'filled': 3, 'solace': 3, 'within': 3, 'lift': 3, 'Sandy': 3, 'Um': 3, 'break': 3, 'money': 3, 'self': 3, 'bed': 3, 'Sir': 3, 'Robin': 3, 'hallowed': 3, 'Earth': 3, 'Frank': 3, 'fair': 3, 'kept': 3, 'Al': 3, 'Hello': 3, 'murdered': 3, 'warrior': 3, 'high': 3, 'Taylor': 3, 'quiet': 3, 'walked': 3, 'horrible': 3, 'Know': 3, 'Doreen': 3, 'joke': 3, 'Maria': 3, 'jury': 3, 'Supreme': 3, 'Doug': 3, 'broke': 3, 'facts': 3, 'bitter': 3, 'staff': 3, 'across': 3, 'chapter': 3, 'Debbie': 3, 'punished': 3, 'Virginia': 3, 'whatever': 3, 'fire': 3, 'brief': 3, 'Leo': 3, 'sides': 3, 'hour': 3, 'Surely': 3, 'sky': 3, 'Tom': 3, 'surrender': 3, 'anyway': 3, 'Pam': 3, 'Mother': 3, 'Corey': 3, 'deep': 3, 'rock': 3, 'saving': 3, 'Anthony': 3, 'treat': 3, 'profanity': 3, 'become': 3, 'Through': 3, 'cherish': 3, 'Rebecca': 3, 'Lopez': 3, 'Shepherd': 3, 'problems': 3, 'problem': 3, 'anymore': 3, 'Ask': 3, 'saddened': 3, 'GOD': 3, 'file': 3, 'seem': 3, 'Jane': 3, 'confessed': 3, 'fired': 3, 'Morgan': 3, 'months': 3, 'worked': 3, 'became': 3, 'paradise': 3, 'Who': 3, 'eternal': 3, 'sinners': 3, 'Cadena': 3, 'longer': 3, 'second': 3, 'started': 3, 'Dow': 3, 'Roger': 3, 'hoping': 3, 'false': 3, 'lawyer': 3, 'counts': 3, 'People': 3, 'party': 3, '100': 3, 'suit': 3, 'Clayton': 3, 'ass': 3, 'Mitchell': 3, 'actually': 3, 'testify': 3, 'making': 3, 'vocabulary': 3, 'sent': 3, 'Theyve': 3, 'sincerely': 3, 'endured': 3, 'mumbling': 3, 'matters': 3, 'imagine': 3, 'sometime': 3, 'Trinity': 3, 'te': 3, 'promises': 3, 'provided': 3, 'aunt': 3, 'race': 3, 'nation': 3, 'believes': 3, 'along': 3, 'hunting': 3, 'theyll': 3, 'Lambert': 3, 'executions': 3, 'leaders': 3, 'avenged': 3, 'moving': 3, 'tapes': 3, 'revolution': 3, 'March': 3, 'message': 3, 'Nothing': 3, 'Verbal': 3, 'patient': 3, 'TDCJ': 3, 'inmates': 3, 'population': 3, 'altered': 3, 'records': 3, 'wants': 3, 'hes': 3, 'behold': 3, 'weep': 3, 'Woe': 3, 'Corinthians': 3, 'rejoice': 3, 'hopes': 3, 'Robinson': 3, 'Ros': 3, 'incident': 3, 'regrets': 3, 'voice': 3, 'song': 3, 'mighty': 3, 'judgment': 3, 'returns': 3, 'Islam': 3, 'coldblooded': 3, 'hollered': 3, 'equal': 3, 'Carol': 2, 'Daniel': 2, 'conscience': 2, 'believing': 2, 'Maricela': 2, 'Lastly': 2, 'terribly': 2, 'Sanchez': 2, 'intended': 2, 'Walker': 2, 'Marissa': 2, 'overcome': 2, 'outrage': 2, 'Renee': 2, 'New': 2, 'Pope': 2, 'Francis': 2, 'While': 2, 'harm': 2, 'path': 2, 'grandbabies': 2, 'Much': 2, 'afforded': 2, 'wishes': 2, 'Especially': 2, 'Moreno': 2, 'unconditional': 2, 'forgot': 2, 'Teresa': 2, 'peaceful': 2, 'listening': 2, 'commend': 2, 'Charlotte': 2, 'Tammy': 2, 'Find': 2, 'shared': 2, 'Last': 2, 'babies': 2, '1427': 2, 'sadness': 2, 'school': 2, 'sign': 2, 'despite': 2, 'Hernandez': 2, 'fullest': 2, 'gracious': 2, 'Christine': 2, 'ultimate': 2, 'period': 2, 'angels': 2, 'wings': 2, 'Angel': 2, 'zero': 2, 'Tiffany': 2, '2000': 2, 'shoes': 2, 'Many': 2, 'Nicholas': 2, 'crimes': 2, 'illegally': 2, '15': 2, 'protest': 2, 'guidance': 2, 'These': 2, 'opened': 2, 'negative': 2, 'energy': 2, 'harbor': 2, 'Hilton': 2, 'raped': 2, 'stole': 2, 'vain': 2, 'price': 2, 'crooked': 2, 'building': 2, 'C': 2, 'boys': 2, 'Allen': 2, 'Louis': 2, 'couple': 2, 'Brenda': 2, 'passed': 2, 'setting': 2, 'yalls': 2, 'stuck': 2, 'bunch': 2, 'Over': 2, 'learned': 2, 'parent': 2, 'theyre': 2, 'cruel': 2, 'welcome': 2, 'hardest': 2, 'oh': 2, 'Dwight': 2, 'Rangers': 2, 'saint': 2, 'kid': 2, 'grown': 2, 'messed': 2, 'rid': 2, 'Murder': 2, 'dope': 2, 'dealer': 2, 'swear': 2, 'courtesy': 2, 'Jung': 2, 'Arthur': 2, 'Say': 2, 'Pray': 2, 'throne': 2, 'Marcus': 2, 'Rhodes': 2, 'gurney': 2, 'seconds': 2, 'total': 2, 'Hate': 2, 'loud': 2, 'Hazelwood': 2, 'deserved': 2, 'Viva': 2, 'mass': 2, 'frustration': 2, 'gates': 2, 'member': 2, 'eight': 2, 'Everyone': 2, 'worries': 2, 'Here': 2, 'Amys': 2, 'committing': 2, 'inside': 2, 'wages': 2, 'emotions': 2, 'atrocity': 2, 'pillar': 2, 'Pastor': 2, 'Amy': 2, 'grandchildren': 2, 'grew': 2, 'sometimes': 2, 'harder': 2, 'infinite': 2, 'memories': 2, 'Stefanie': 2, 'celebrate': 2, 'Cori': 2, 'princess': 2, 'dishonor': 2, 'criminal': 2, 'wanting': 2, 'Back': 2, 'Danielle': 2, 'grant': 2, 'Dixie': 2, 'Jennie': 2, 'reality': 2, 'hugs': 2, 'shepherd': 2, 'shed': 2, 'queen': 2, 'pump': 2, 'lethal': 2, 'worse': 2, 'Fight': 2, 'fo': 2, 'unable': 2, 'courtroom': 2, 'Amber': 2, 'pull': 2, 'Ronnie': 2, 'Harris': 2, 'Tim': 2, 'Dan': 2, 'Synnova': 2, 'Rodney': 2, 'fellowship': 2, 'correctly': 2, 'Roxanne': 2, 'Hallowed': 2, 'Name': 2, 'punish': 2, 'neither': 2, 'remorseful': 2, 'hello': 2, 'compared': 2, 'pleasure': 2, 'purpose': 2, 'US': 2, 'civilized': 2, 'voices': 2, 'rose': 2, 'Aunt': 2, 'Is': 2, 'error': 2, 'violent': 2, 'investigators': 2, 'convict': 2, 'hair': 2, 'Me': 2, 'awake': 2, 'Capital': 2, 'ministry': 2, 'Chantal': 2, 'unjust': 2, 'denied': 2, 'exist': 2, 'Most': 2, 'importantly': 2, 'granted': 2, 'Jess': 2, 'Harold': 2, 'story': 2, 'involvement': 2, 'Vick': 2, 'Adam': 2, 'bedroom': 2, 'owed': 2, 'Before': 2, 'seen': 2, 'heals': 2, 'empty': 2, 'teaching': 2, 'Kevin': 2, 'offer': 2, 'affected': 2, 'Kyle': 2, '1991': 2, 'felt': 2, 'Dawn': 2, 'Hewitt': 2, 'agree': 2, 'shalt': 2, 'ill': 2, 'fellows': 2, 'pen': 2, 'Shed': 2, 'destiny': 2, 'eternity': 2, 'Melyssa': 2, 'biggest': 2, 'Come': 2, 'Uh': 2, 'Judge': 2, 'conviction': 2, 'answer': 2, 'Nancy': 2, 'poison': 2, 'easier': 2, 'healing': 2, 'Yolanda': 2, 'somewhere': 2, 'Ernest': 2, 'Bear': 2, 'County': 2, 'stupidity': 2, 'newspaper': 2, 'Sara': 2, 'fault': 2, 'correct': 2, 'wronged': 2, 'Baby': 2, 'nine': 2, 'Dianne': 2, 'Betty': 2, 'Judy': 2, 'worst': 2, 'devil': 2, 'allowing': 2, 'deceive': 2, 'patience': 2, 'play': 2, 'whether': 2, 'Megan': 2, 'safe': 2, 'Jerry': 2, 'hang': 2, 'Anne': 2, 'front': 2, 'lose': 2, 'Watch': 2, 'Celina': 2, 'Carolyn': 2, 'possible': 2, 'Man': 2, 'thoughts': 2, 'flesh': 2, 'Into': 2, 'Guido': 2, 'totally': 2, 'Ashlee': 2, 'Brent': 2, 'Couple': 2, 'beg': 2, 'might': 2, 'Allison': 2, 'Sheila': 2, 'seven': 2, 'Andy': 2, 'memory': 2, 'Rusty': 2, 'Sonny': 2, 'destroyed': 2, 'alls': 2, 'Cindy': 2, 'kin': 2, 'omitted': 2, 'works': 2, 'dust': 2, 'Tommy': 2, 'Martin': 2, 'robbery': 2, 'Davis': 2, 'charged': 2, 'shooting': 2, 'single': 2, 'physical': 2, 'unknown': 2, 'Rosalyns': 2, 'sticking': 2, 'Without': 2, 'England': 2, 'leads': 2, 'righteousness': 2, 'rod': 2, 'Don': 2, 'instead': 2, 'believed': 2, 'laws': 2, 'Texans': 2, 'uphold': 2, 'instances': 2, 'victorious': 2, 'ALLAHs': 2, 'represent': 2, 'appeal': 2, 'missing': 2, 'Unites': 2, 'States': 2, 'officials': 2, 'fixed': 2, 'System': 2, 'Ellis': 2, 'fix': 2, 'NOT': 2, 'grudges': 2, 'Kenney': 2, 'Arnott': 2, 'hollow': 2, 'hospitality': 2, 'run': 2, 'Three': 2, 'bullet': 2, 'North': 2, '30': 2, 'shots': 2, 'Clay': 2, 'acted': 2, 'control': 2, 'possibly': 2, 'Houston': 2, 'expressed': 2, 'chief': 2, 'ground': 2, 'respected': 2, 'placed': 2, 'everlasting': 2, 'vengeance': 2, 'invite': 2, 'funeral': 2, 'sweet': 2, 'havent': 2, 'personally': 2, 'stone': 2, 'physically': 2, 'resounding': 2, 'ideals': 2, 'parties': 2, 'whos': 2, 'compromise': 2, 'fell': 2, 'Spirit': 2, 'confession': 2, 'unit': 2, '16': 2, 'Chief': 2, 'Neal': 2, 'seat': 2, 'Nov': 2, 'endure': 2, 'Sherrod': 2, 'lying': 2, 'article': 2, 'testified': 2, 'wonder': 2, 'admit': 2, 'fantasy': 2, 'fabricated': 2, 'becomes': 2, '1983': 2, 'malice': 2, 'arrival': 2, 'disappoint': 2, 'stronger': 2, 'writing': 2, 'Charles': 2, 'Pat': 2, 'Help': 2, 'particular': 2, 'understood': 2, 'recites': 2, 'Sean': 2, 'needle': 2, 'numbers': 2, 'burden': 2, 'desire': 2, 'Stop': 2, 'violence': 2, 'wiped': 2, 'clean': 2, 'unfortunate': 2, 'individually': 2, 'remains': 2, 'closer': 2, 'Isnt': 2, 'streets': 2, 'cast': 2, 'rush': 2, 'Dios': 2, 'mi': 2, 'command': 2, 'Irish': 2, 'unrighteousness': 2, 'Right': 2, 'quiero': 2, 'inflicted': 2, 'greater': 2, 'taught': 2, 'added': 2, 'remain': 2, 'whose': 2, 'moments': 2, 'Sharon': 2, 'racist': 2, 'white': 2, 'kiss': 2, 'finite': 2, 'Islamic': 2, 'chooses': 2, 'following': 2, 'surgery': 2, 'four': 2, 'whoever': 2, 'unity': 2, 'prevail': 2, 'courage': 2, 'dignity': 2, 'Bianca': 2, 'Shaka': 2, 'Sankofa': 2, 'Graham': 2, 'properly': 2, 'presented': 2, 'international': 2, 'Mohammed': 2, 'exposed': 2, 'Mandela': 2, 'refuse': 2, 'revolutionary': 2, 'order': 2, 'African': 2, 'united': 2, 'assured': 2, 'sanctioned': 2, 'less': 2, 'ease': 2, 'Lead': 2, 'proof': 2, 'view': 2, 'gong': 2, 'District': 2, 'office': 2, 'Attorney': 2, 'filed': 2, 'conspiracy': 2, 'doubt': 2, 'arguments': 2, 'falsified': 2, 'Mason': 2, 'Graves': 2, 'Cause': 2, 'fail': 2, 'Whenever': 2, 'Satan': 2, 'L': 2, 'McBride': 2, 'hunger': 2, 'manner': 2, 'prophets': 2, 'gifts': 2, 'account': 2, 'rejoices': 2, 'fails': 2, 'prophecy': 2, 'cease': 2, 'um': 2, 'memorize': 2, 'beatitudes': 2, '1st': 2, 'pretty': 2, 'including': 2, 'asleep': 2, 'Webb': 2, 'sending': 2, 'form': 2, 'fashion': 2, 'serious': 2, 'difference': 2, 'faking': 2, 'fake': 2, 'figure': 2, 'Weis': 2, 'practice': 2, 'Youve': 2, 'resolved': 2, 'Gloria': 2, 'ashamed': 2, 'places': 2, 'theyve': 2, 'Hawthorn': 2, 'oneeyed': 2, 'booger': 2, 'create': 2, 'Persons': 2, 'misery': 2, 'flow': 2, 'grow': 2, 'Adios': 2, 'Lynn': 2, 'niece': 2, 'subpoena': 2, 'tied': 2, 'methamphetamine': 2, 'remunerator': 2, 'deepest': 2, 'affording': 2, 'sided': 2, 'fully': 2, 'caring': 2, 'owe': 2, 'small': 2, 'murderer': 2, 'lucky': 2, 'Ron': 2, 'compassion': 2, 'Magee': 2, 'sun': 2, 'Dee': 2, 'created': 2, 'sentences': 2, 'teenagers': 2, 'garbled': 2, 'Mumbled': 2, 'judicial': 2, 'TDC': 2, 'determine': 2, 'RJ': 2, 'tooth': 2, 'treated': 2, 'policeman': 2, 'kills': 2, 'beings': 2, 'offended': 2, 'Muslim': 2, 'la': 2, 'ilah': 2, 'illa': 2, 'anna': 2, 'Muhammadan': 2, 'Rasul': 2, 'Verily': 2, 'Jean': 1, 'bothering': 1, 'Charlie': 1, 'certain': 1, 'amount': 1, 'Happy': 1, 'Birthday': 1, 'Carrol': 1, 'birthday': 1, 'Next': 1, 'Levin': 1, 'Alicia': 1, 'Amezcua': 1, 'Rodriguez': 1, 'Sandra': 1, 'Babcock': 1, 'Consul': 1, 'Luna': 1, 'Julia': 1, 'Thimm': 1, 'elses': 1, 'count': 1, 'lessons': 1, 'Nighty': 1, 'nighty': 1, 'advanced': 1, 'Coretta': 1, 'questions': 1, 'Crain': 1, 'Words': 1, 'Mercedes': 1, 'Davids': 1, 'Kathryn': 1, 'Cannon': 1, 'lifelong': 1, 'Ball': 1, 'injustices': 1, 'Leon': 1, 'Harrison': 1, 'grieved': 1, 'productive': 1, 'Above': 1, 'intend': 1, 'sentiment': 1, 'Sending': 1, 'Shelby': 1, 'aunts': 1, 'uncles': 1, 'York': 1, 'switch': 1, 'refused': 1, 'Wesley': 1, 'Ruiz': 1, 'aka': 1, 'Slope': 1, 'Solano': 1, 'card': 1, 'motherinlaw': 1, 'quarter': 1, 'century': 1, 'unwavering': 1, 'held': 1, 'simply': 1, 'extended': 1, 'Police': 1, 'Officers': 1, 'Rocky': 1, 'happended': 1, 'fast': 1, 'Steinfeldt': 1, 'indignity': 1, 'defeats': 1, 'Pampering': 1, 'obscure': 1, 'merit': 1, 'drawing': 1, 'Stacy': 1, 'Art': 1, 'Trix': 1, 'endings': 1, 'beginnings': 1, 'lion': 1, 'lamb': 1, 'sees': 1, 'Wayne': 1, 'Jorge': 1, 'Luis': 1, 'Darlie': 1, 'Richie': 1, 'Auntie': 1, 'Nesha': 1, 'Titus': 1, 'Shan': 1, 'Baisey': 1, 'TT': 1, 'Damen': 1, 'Lawrence': 1, 'realized': 1, 'Secondly': 1, 'Bella': 1, 'meYou': 1, 'statementYes': 1, 'verbal': 1, 'mindful': 1, 'boss': 1, 'Young': 1, 'Ramiro': 1, 'Live': 1, 'hiphop': 1, 'endlessly': 1, 'himselfThank': 1, 'Daughter': 1, 'Canfield': 1, 'Dwyers': 1, 'eliminate': 1, 'Gerald': 1, 'Mandy': 1, 'Grandmother': 1, 'Lilia': 1, 'kisses': 1, 'serves': 1, 'youngsters': 1, 'Think': 1, 'Jaime': 1, 'Cory': 1, 'release': 1, 'finally': 1, 'Weve': 1, 'grandpas': 1, 'Support': 1, 'declare': 1, 'Steven': 1, 'Everett': 1, 'Velasquez': 1, 'Douglas': 1, 'Alan': 1, 'Feldman': 1, 'Either': 1, 'proxy': 1, 'carried': 1, '1998': 1, 'holding': 1, 'confinement': 1, 'force': 1, 'pending': 1, 'immediate': 1, 'Miriam': 1, 'Campbell': 1, 'Aaron': 1, 'Darrian': 1, 'watches': 1, 'Suzy': 1, 'Elroy': 1, 'Chester': 1, 'clown': 1, 'plan': 1, 'Shonna': 1, 'Bubba': 1, 'midst': 1, 'trip': 1, 'partners': 1, 'Arnold': 1, 'Schwarzenegger': 1, 'absurdity': 1, 'resolve': 1, 'hadnt': 1, 'Newman': 1, 'rob': 1, 'driving': 1, 'abused': 1, 'harmed': 1, 'Sheena': 1, 'burning': 1, 'Terrella': 1, 'judging': 1, 'Always': 1, '1219': 1, 'Hang': 1, 'Cowboy': 1, 'Put': 1, 'Tracy': 1, 'Terella': 1, 'babe': 1, 'Celeste': 1, 'Cort': 1, 'Anna': 1, 'Jason': 1, 'dads': 1, 'noticed': 1, 'Bivins': 1, 'Marjo': 1, 'six': 1, 'Bernard': 1, 'feeling': 1, 'arm': 1, 'sat': 1, 'cell': 1, 'wondering': 1, 'grandson': 1, 'coldhearted': 1, 'Another': 1, 'Hope': 1, 'Grandbabies': 1, 'homesick': 1, 'maker': 1, 'awe': 1, 'Billy': 1, 'Eloise': 1, 'Bohannon': 1, 'Peg': 1, 'Rich': 1, 'dies': 1, 'malicious': 1, 'stupid': 1, 'mans': 1, 'Trust': 1, 'eat': 1, 'Sheri': 1, 'Got': 1, 'Cowboys': 1, 'Tball': 1, 'Leary': 1, 'Guy': 1, 'Fernandez': 1, 'finish': 1, 'Aubrey': 1, 'Hawkins': 1, 'Cheri': 1, 'Katherine': 1, 'stings': 1, 'Alyssa': 1, 'Vazquez': 1, 'sympathy': 1, 'Emmanuel': 1, 'Joseph': 1, 'president': 1, 'performing': 1, 'Salvation': 1, 'invoke': 1, 'Yahweh': 1, 'strapped': 1, 'Tali': 1, 'Somebody': 1, 'screwed': 1, 'Pull': 1, 'Israel': 1, 'causes': 1, 'lifetime': 1, 'Director': 1, 'Spark': 1, 'Conna': 1, 'Goodnight': 1, 'representing': 1, 'failed': 1, 'miscarriage': 1, 'slaughter': 1, 'Melanie': 1, 'doctors': 1, 'peoples': 1, 'knock': 1, 'Rick': 1, 'defended': 1, 'Prison': 1, '300': 1, 'inhumane': 1, 'teleport': 1, 'Noel': 1, 'thick': 1, 'thin': 1, 'Brigitta': 1, 'Tracey': 1, 'Nicole': 1, 'Wanda': 1, 'courtappointed': 1, 'Check': 1, 'check': 1, 'persons': 1, 'youngster': 1, 'youcrying': 1, 'Coming': 1, 'faults': 1, 'imperfections': 1, 'counseling': 1, 'guiding': 1, 'Forest': 1, 'Hall': 1, 'enlightenment': 1, 'Wendys': 1, 'Eric': 1, 'Jr': 1, 'Hector': 1, 'Jake': 1, 'Mia': 1, 'Papa': 1, 'starting': 1, 'Victor': 1, 'bros': 1, 'Deena': 1, 'Adela': 1, 'Mijta': 1, 'Juana': 1, 'Taking': 1, 'repay': 1, 'affecting': 1, 'Adonya': 1, 'Myself': 1, 'Galloway': 1, 'tomorrow': 1, 'torn': 1, 'thousand': 1, 'require': 1, 'monkey': 1, 'Samantha': 1, 'rip': 1, 'tore': 1, 'results': 1, 'rapes': 1, 'alcoholic': 1, 'peanut': 1, 'creating': 1, 'shoe': 1, 'Lopes': 1, 'lesson': 1, 'affect': 1, 'Shay': 1, 'enjoyed': 1, 'hef': 1, 'powerful': 1, 'thee': 1, 'Gaylene': 1, 'Talk': 1, 'Smile': 1, 'AsSalaam': 1, 'Alaikum': 1, 'forgiver': 1, 'Kate': 1, 'gang': 1, 'excuses': 1, 'extending': 1, 'mama': 1, 'Collins': 1, 'warmest': 1, 'Pa': 1, 'Kristy': 1, 'Khristopher': 1, 'Tony': 1, 'guides': 1, 'plenty': 1, 'Dre': 1, 'Yaws': 1, 'Junie': 1, 'Veterinary': 1, 'Association': 1, 'dogs': 1, 'Josephs': 1, 'respond': 1, 'Cant': 1, 'Wynona': 1, 'Spade': 1, 'Segal': 1, 'Kay': 1, 'Chicken': 1, 'Pork': 1, 'Chops': 1, 'fellas': 1, 'Fleetwood': 1, 'golden': 1, 'Chelsea': 1, 'Johnny': 1, 'Tito': 1, 'Roseanne': 1, 'Melissa': 1, 'Dyson': 1, 'Herrington': 1, 'played': 1, 'dealt': 1, 'Community': 1, 'existing': 1, 'isolated': 1, 'suppressed': 1, 'minds': 1, 'affection': 1, 'resident': 1, 'ache': 1, 'walls': 1, 'darkness': 1, 'crushed': 1, 'meaning': 1, 'unforgivesness': 1, 'Pastors': 1, 'Christians': 1, 'terrifying': 1, 'Does': 1, 'pit': 1, 'hopelessness': 1, 'terrfying': 1, 'enable': 1, 'Helen': 1, 'Luise': 1, 'mic': 1, 'Saying': 1, 'Mija': 1, 'Sis': 1, 'Cynthia': 1, 'Abel': 1, 'Evelyn': 1, 'Armando': 1, 'Delia': 1, 'Veronicas': 1, 'leg': 1, 'herb': 1, 'closet': 1, 'Her': 1, 'asthma': 1, 'lent': 1, 'hot': 1, 'invited': 1, 'shirt': 1, 'Josh': 1, 'Cassandra': 1, 'Nell': 1, 'Kaye': 1, 'Saint': 1, 'Gabriels': 1, 'Church': 1, 'ended': 1, 'Zena': 1, 'tresspasses': 1, 'Donahue': 1, 'Hollbrook': 1, 'purposely': 1, 'Walter': 1, 'E': 1, 'Reeves': 1, 'claims': 1, 'Hurley': 1, 'suppose': 1, 'agreeing': 1, 'Chong': 1, 'Carrier': 1, 'Gerard': 1, 'step': 1, 'Kaneisha': 1, 'Ieisha': 1, 'Flake': 1, 'Iam': 1, 'confusion': 1, 'Christianity': 1, 'tact': 1, 'deals': 1, 'sold': 1, 'polygraph': 1, 'volunteered': 1, 'street': 1, 'driver': 1, 'CDL': 1, 'active': 1, 'yard': 1, 'picked': 1, 'career': 1, 'jonesin': 1, 'Dallas': 1, 'bathroom': 1, 'attacked': 1, 'deaf': 1, 'ear': 1, 'TV': 1, 'aid': 1, 'cut': 1, 'throat': 1, 'stabbed': 1, 'hit': 1, 'favor': 1, 'pulled': 1, 'downtown': 1, 'Two': 1, 'famly': 1, 'videotape': 1, 'Standing': 1, 'god': 1, 'awesome': 1, 'incarcerated': 1, 'kitten': 1, 'Angela': 1, 'prize': 1, 'T': 1, 'Ford': 1, 'remembering': 1, 'gained': 1, 'Hawkings': 1, 'Shout': 1, 'Edgardo': 1, 'Receive': 1, 'comforted': 1, 'heal': 1, 'terms': 1, 'Kjersti': 1, 'Roland': 1, 'nephew': 1, 'Falicia': 1, 'Prechtl': 1, 'continued': 1, 'interviews': 1, 'choke': 1, 'terrible': 1, 'December': 1, 'embraced': 1, 'becauseend': 1, 'lovel': 1, 'Ronni': 1, 'Dawson': 1, 'hours': 1, '2003': 1, 'knees': 1, 'Bible': 1, 'obey': 1, 'seeking': 1, 'Chiquita': 1, 'Freedom': 1, 'Same': 1, 'Could': 1, 'Whats': 1, 'Stephanie': 1, 'Felicia': 1, 'broken': 1, 'Prophet': 1, 'Mohammad': 1, 'Unto': 1, 'Carrie': 1, 'regards': 1, 'Lee': 1, 'Hines': 1, 'Woods': 1, 'Cleve': 1, 'Foster': 1, 'Patrick': 1, 'Bryan': 1, 'Knight': 1, 'contact': 1, 'Jefe': 1, 'Grandfather': 1, 'Surace': 1, 'pauses': 1, 'Howdy': 1, 'Trial': 1, 'Prosecutor': 1, 'cheated': 1, 'CCA': 1, 'Federal': 1, '5th': 1, 'Circuit': 1, 'Maker': 1, 'overseas': 1, 'Doris': 1, 'wheres': 1, 'stunt': 1, 'double': 1, 'savior': 1, 'Ward': 1, 'investigator': 1, 'Michigan': 1, 'Debra': 1, 'wedding': 1, 'Greer': 1, 'Sammie': 1, 'Vincent': 1, 'vein': 1, 'needles': 1, 'Doctors': 1, 'Office': 1, 'wearing': 1, 'diaper': 1, 'aside': 1, 'cemetery': 1, 'Bury': 1, 'Schaeffer': 1, 'judges': 1, 'overplayed': 1, 'cover': 1, 'Marcy': 1, 'Profanity': 1, 'directed': 1, 'Christopher': 1, 'Ochente': 1, 'dancing': 1, 'sis': 1, 'diamonds': 1, 'priceless': 1, 'Eve': 1, 'Each': 1, 'Saddam': 1, 'Gomorrah': 1, 'immaturity': 1, 'disrespect': 1, 'Gus': 1, 'Quit': 1, 'heroin': 1, 'methadone': 1, 'Devin': 1, 'Walt': 1, 'Amanda': 1, 'Cathy': 1, 'praises': 1, 'Garza': 1, 'Disrespect': 1, 'Mommy': 1, 'calmness': 1, 'Marios': 1, 'Jermaine': 1, 'cancellation': 1, 'professed': 1, 'Bruno': 1, 'Chuckie': 1, 'Juanita': 1, 'Toby': 1, 'Wright': 1, 'Kick': 1, 'tires': 1, 'brotherinlaws': 1, 'trooper': 1, 'Damiens': 1, 'Damien': 1, 'Audreys': 1, 'regretted': 1, 'remembers': 1, 'ups': 1, 'Aleda': 1, 'rule': 1, '20': 1, 'fingers': 1, 'describe': 1, 'sincerity': 1, 'inflict': 1, 'prays': 1, 'Where': 1, 'Nutt': 1, 'Honey': 1, 'Gabrielle': 1, 'Uhl': 1, 'Germany': 1, 'countless': 1, 'course': 1, 'Nadia': 1, 'Amenia': 1, 'Kira': 1, 'Noemi': 1, 'wallI': 1, 'efforts': 1, 'Peter': 1, 'Lorrell': 1, 'Barker': 1, 'Tina': 1, 'kinda': 1, 'settle': 1, 'Brandon': 1, 'Darling': 1, 'Kerstin': 1, 'consequences': 1, 'Mistakes': 1, 'reprieve': 1, 'hinder': 1, 'listed': 1, 'nervous': 1, 'Sometimes': 1, 'themand': 1, 'track': 1, 'Beth': 1, 'betrayed': 1, 'righeousness': 1, 'unjustly': 1, 'amended': 1, '010906': 1, 'misled': 1, 'grass': 1, 'Ailsa': 1, 'sisterinlaw': 1, 'Edie': 1, 'Carma': 1, 'Margherita': 1, 'Angelo': 1, 'Justin': 1, 'Pammy': 1, 'Shy': 1, 'Town': 1, 'JayI': 1, 'hanging': 1, 'popsicle': 1, 'speakers': 1, 'feet': 1, 'headphones': 1, 'worthy': 1, 'shedding': 1, 'Calvary': 1, 'trespassed': 1, 'tired': 1, 'stops': 1, 'prosecutors': 1, 'catacombs': 1, 'belongs': 1, 'shackles': 1, 'chains': 1, 'otherwise': 1, 'Misty': 1, 'Annette': 1, 'Earline': 1, 'Set': 1, 'overcame': 1, 'Jessica': 1, 'Lorna': 1, 'running': 1, 'Andre': 1, 'potential': 1, 'Ann': 1, 'Carla': 1, 'Fran': 1, 'headed': 1, 'Blackie': 1, 'Buster': 1, 'Milo': 1, 'commence': 1, 'Sullivan': 1, 'Hayden': 1, 'intention': 1, 'claimed': 1, 'shouldnt': 1, 'Void': 1, 'hopefully': 1, 'Brians': 1, 'Shane': 1, 'finds': 1, 'moon': 1, 'Gray': 1, 'Brandy': 1, 'pact': 1, 'Vicente': 1, 'Steal': 1, 'undertaker': 1, 'Murderer': 1, 'Portion': 1, 'dealing': 1, 'Bounce': 1, 'persecuted': 1, '12': 1, 'Gabby': 1, 'Remaining': 1, 'portion': 1, 'Perkins': 1, 'Kinslow': 1, 'younger': 1, 'Eastham': 1, 'Jamie': 1, 'Kent': 1, 'dozen': 1, 'Cullen': 1, 'Nanny': 1, 'Bea': 1, 'Gilbert': 1, 'Ayers': 1, 'blesses': 1, 'celebrating': 1, 'celebration': 1, 'angelic': 1, 'Todeschini': 1, 'Marys': 1, 'genuinely': 1, 'excuse': 1, 'arresting': 1, 'CPR': 1, 'Chaplains': 1, 'timeoh': 1, 'Ken': 1, 'Katrina': 1, 'Probably': 1, 'calmed': 1, 'Big': 1, 'yellow': 1, 'serve': 1, 'Franciscan': 1, 'Nuns': 1, 'Tannie': 1, 'Blackwell': 1, 'Paulette': 1, 'Kindoms': 1, 'shore': 1, 'softly': 1, 'gently': 1, 'restores': 1, 'Word': 1, 'Way': 1, 'Truth': 1, 'choosing': 1, 'overlooks': 1, 'quit': 1, 'worrying': 1, 'solitary': 1, '35': 1, 'Varghese': 1, 'Holder': 1, 'defenseand': 1, 'Abrahams': 1, 'Farooq': 1, 'enjoied': 1, 'alot': 1, 'denial': 1, 'incarceration': 1, 'everytime': 1, 'arrested': 1, 'destroying': 1, 'hide': 1, 'breed': 1, 'KILLING': 1, 'IS': 1, 'ALRIGHT': 1, 'TO': 1, 'DO': 1, 'AS': 1, 'LONG': 1, 'ITS': 1, 'FOR': 1, 'JUSTICE': 1, 'OF': 1, 'THE': 1, 'AMERICAN': 1, 'PEOPLE': 1, 'detes': 1, 'occasions': 1, 'ect': 1, 'heros': 1, 'Nammyohorengekyo': 1, 'Salaamu': 1, 'Bro': 1, 'DReehcer': 1, 'Ali': 1, 'Smaillii': 1, 'Muhammd': 1, 'formely': 1, 'Earl': 1, 'HeadWilliams': 1, 'III': 1, 'qualified': 1, 'dismiss': 1, 'filing': 1, 'deadline': 1, 'failing': 1, 'documents': 1, 'client': 1, 'Due': 1, 'Process': 1, 'Law': 1, 'guaranteed': 1, 'Constitution': 1, 'confidence': 1, 'unfair': 1, 'clemency': 1, 'reviewed': 1, 'politicians': 1, 'Elliot': 1, 'Nashtat': 1, 'Dutton': 1, 'Dolatschko': 1, 'Bilodeau': 1, 'Charlton': 1, 'deter': 1, 'justspeaking': 1, 'French': 1, 'Lundy': 1, 'Levi': 1, 'meanhearted': 1, 'Thompson': 1, 'Cutler': 1, 'burn': 1, 'candle': 1, 'cheap': 1, 'Their': 1, 'devastated': 1, 'meal': 1, 'bit': 1, 'tests': 1, 'matched': 1, 'third': 1, 'request': 1, 'report': 1, 'patterns': 1, 'East': 1, 'laid': 1, 'Larry': 1, 'Ashworth': 1, 'Fort': 1, 'Worth': 1, 'molest': 1, 'acts': 1, 'Gaines': 1, 'fabrication': 1, 'coverup': 1, 'unprovoked': 1, 'selfdefense': 1, 'reflex': 1, 'jurors': 1, 'injury': 1, 'beating': 1, 'crack': 1, 'five': 1, 'Chronicle': 1, 'mayor': 1, 'DEA': 1, 'informant': 1, 'reacted': 1, 'theOffender': 1, 'speaking': 1, 'midsentence': 1, 'solid': 1, 'Reed': 1, 'Chad': 1, 'reserve': 1, 'parole': 1, '325': 1, 'sinned': 1, '623': 1, '58': 1, '109': 1, 'mouth': 1, '316': 1, 'begotten': 1, 'whosoever': 1, 'believeth': 1, 'John336': 1, 'wrath': 1, '119': 1, 'verse': 1, 'jumped': 1, 'Psalm': 1, '998': 1, 'speaks': 1, 'holiness': 1, 'deeds': 1, 'Bakers': 1, 'Switzerland': 1, 'Diego': 1, 'Wildflower': 1, 'Bo': 1, 'Simmons': 1, 'Ollie': 1, 'Gigi': 1, 'unite': 1, 'Deidra': 1, 'Claudia': 1, 'temporary': 1, 'stepping': 1, 'demonstrate': 1, 'crazy': 1, 'Long': 1, 'Raise': 1, 'flag': 1, 'yes': 1, 'McDougal': 1, 'exonerated': 1, 'Tolson': 1, 'Rebeccas': 1, 'Send': 1, 'anointeth': 1, 'House': 1, 'Peters': 1, 'heinous': 1, 'senseless': 1, 'restraints': 1, 'shout': 1, 'idle': 1, 'threats': 1, 'Understand': 1, 'shameful': 1, 'dispose': 1, 'participating': 1, 'scream': 1, 'meand': 1, 'Luttig': 1, 'chances': 1, 'justiceTonight': 1, 'conflict': 1, 'SIDES': 1, 'proceeding': 1, 'difficult': 1, 'clash': 1, 'misguided': 1, 'recovered': 1, 'mess': 1, 'arent': 1, 'willing': 1, 'wins': 1, 'walks': 1, 'Petersons': 1, 'Crouch': 1, 'Chiara': 1, 'Fred': 1, 'Rachel': 1, 'Oralia': 1, 'Corpus': 1, 'Christi': 1, 'Caller': 1, 'Times': 1, 'Sarah': 1, 'Grandma': 1, 'Until': 1, 'selfdestruct': 1, 'dwells': 1, 'advisor': 1, 'OBrien': 1, 'Guajardo': 1, 'Orlando': 1, 'Celia': 1, 'wrongfully': 1, 'Watkins': 1, '10th': 1, 'Street': 1, '31': 1, '1993': 1, 'admitted': 1, 'dealers': 1, 'east': 1, 'shut': 1, 'island': 1, 'Barbados': 1, 'Approximately': 1, '28': 1, 'bassinet': 1, 'Colleen': 1, 'ends': 1, 'wet': 1, 'Willie': 1, 'share': 1, 'Than': 1, 'II': 1, 'Timothy': 1, '17': 1, 'tells': 1, 'DID': 1, 'instill': 1, 'sound': 1, 'mindFor': 1, 'desperately': 1, 'search': 1, 'truthfully': 1, 'determined': 1, 'specific': 1, 'conclusion': 1, 'damned': 1, 'age': 1, 'Modina': 1, 'Holmes': 1, 'planting': 1, 'cigarette': 1, 'butt': 1, 'knives': 1, 'Helgren': 1, 'packed': 1, 'trunk': 1, 'cab': 1, 'photo': 1, 'shows': 1, 'Club': 1, 'Brothers': 1, 'alike': 1, 'Wes': 1, 'chump': 1, 'dirty': 1, 'shield': 1, 'AKA': 1, 'Daffy': 1, 'Duck': 1, 'soiling': 1, 'reputation': 1, 'dreamed': 1, 'UNrestrained': 1, 'Farren': 1, 'slick': 1, 'Globe': 1, 'printed': 1, '27th': 1, 'diarmed': 1, 'rendered': 1, 'defenseless': 1, 'justify': 1, 'sequence': 1, 'walking': 1, 'deception': 1, 'related': 1, 'truely': 1, '85': 1, 'cried': 1, 'deliberately': 1, 'premeditation': 1, 'spun': 1, 'motives': 1, 'sets': 1, 'professionalism': 1, 'Scooter': 1, 'beer': 1, 'Wet': 1, 'Willy': 1, 'Boocub': 1, 'Diana': 1, 'meit': 1, 'Sanchezs': 1, 'fro': 1, 'facetious': 1, 'yields': 1, 'Begins': 1, 'Amazing': 1, 'everywhere': 1, 'Teach': 1, 'Neckbone': 1, 'sheet': 1, 'Write': 1, 'hun': 1, 'weigh': 1, '180': 1, 'pounds': 1, '57': 1, 'Becca': 1, 'Thirteen': 1, 'fourteen': 1, 'noncaring': 1, 'attitude': 1, 'Politicians': 1, 'Ursula': 1, 'Manon': 1, 'warm': 1, 'pepper': 1, 'gas': 1, 'Call': 1, 'Humphrey': 1, 'Danalyn': 1, 'Owen': 1, 'werent': 1, 'Have': 1, 'knowing': 1, 'diligence': 1, 'Someday': 1, 'hurry': 1, 'Prayer': 1, 'Wheres': 1, 'Marinos': 1, 'youalways': 1, 'guided': 1, 'Marsha': 1, 'mansion': 1, 'promised': 1, 'almost': 1, 'safer': 1, 'ending': 1, 'dude': 1, 'Shorty': 1, 'shower': 1, 'Calling': 1, 'Lubbock': 1, 'Travis': 1, 'Ware': 1, 'felonies': 1, 'invested': 1, 'June': 1, '25': 1, '2008': 1, 'magnificent': 1, 'travesties': 1, 'repentant': 1, 'approach': 1, 'glorious': 1, 'event': 1, 'Approach': 1, 'waste': 1, 'arguing': 1, 'bickering': 1, 'embrace': 1, 'likeit': 1, 'nectar': 1, 'wishing': 1, 'tree': 1, 'Mankind': 1, 'tribe': 1, 'grumah': 1, 'poet': 1, 'separation': 1, 'minister': 1, 'mycountry': 1, 'nourish': 1, 'minimum': 1, 'maximum': 1, 'security': 1, 'mothers': 1, 'intentionally': 1, 'knowingly': 1, 'didmau': 1, 'Vietnamese': 1, 'debts': 1, 'imagined': 1, 'slate': 1, 'marked': 1, 'erased': 1, 'Glory': 1, 'Christina': 1, 'River': 1, 'Anderson': 1, 'visits': 1, 'Granny': 1, 'dance': 1, 'gold': 1, 'Gracie': 1, 'lovely': 1, 'moral': 1, 'huh': 1, 'Slayton': 1, 'mandas': 1, 'contigo': 1, 'espiritu': 1, 'Alabamos': 1, 'todos': 1, 'Cuida': 1, 'familia': 1, 'translating': 1, 'St': 1, 'shineth': 1, 'foundations': 1, 'cleanse': 1, 'hey': 1, 'Santajaib': 1, 'Singh': 1, 'Ji': 1, 'Maggie': 1, 'actively': 1, 'Protect': 1, 'mumbled': 1, 'thier': 1, 'Ricky': 1, 'Melodee': 1, 'WalshSylvia': 1, 'mucho': 1, 'Consulado': 1, 'decir': 1, 'muchas': 1, 'gracias': 1, 'por': 1, 'todo': 1, 'womans': 1, 'Koslow': 1, 'softened': 1, 'graciously': 1, 'hi': 1, 'relatives': 1, 'greatly': 1, 'winthin': 1, 'departure': 1, 'plane': 1, 'judgement': 1, 'lack': 1, 'join': 1, 'souls': 1, 'Bryant': 1, 'slumber': 1, 'Wilson': 1, 'hired': 1, 'Kelly': 1, 'Elizabeth': 1, 'twelve': 1, 'infamous': 1, 'famous': 1, 'legendary': 1, 'Matt': 1, 'Turner': 1, 'universe': 1, 'protection': 1, 'era': 1, 'masters': 1, 'temple': 1, 'honored': 1, 'assigned': 1, 'strange': 1, 'governs': 1, 'events': 1, 'religion': 1, 'South': 1, 'Central': 1, 'Unintelligible': 1, 'ancient': 1, 'forefathers': 1, 'Again': 1, 'revealed': 1, 'Extend': 1, 'Dorothy': 1, 'Tomas': 1, 'performed': 1, 'Shannon': 1, 'pictures': 1, 'caught': 1, 'witnessed': 1, 'Ironic': 1, 'DanaYes': 1, 'overwhelming': 1, 'compelling': 1, 'anywhere': 1, 'rallied': 1, 'Lamberts': 1, 'pursuing': 1, 'outlaw': 1, 'legal': 1, 'systematic': 1, 'murderlynching': 1, 'recognize': 1, 'Malcom': 1, 'X': 1, 'Luther': 1, 'condition': 1, 'tradition': 1, 'resistance': 1, 'loose': 1, 'battle': 1, 'war': 1, 'avenge': 1, 'protested': 1, 'Slavery': 1, 'south': 1, 'beatings': 1, 'brutality': 1, 'closed': 1, 'doors': 1, 'barbarity': 1, 'Minister': 1, 'Ashanti': 1, 'Chimurenga': 1, 'string': 1, 'Believe': 1, 'Winnie': 1, 'Nelson': 1, 'Sharpton': 1, 'Jagger': 1, 'Jesse': 1, 'liberate': 1, 'Maintain': 1, 'Victory': 1, 'Preach': 1, 'Push': 1, 'pure': 1, 'simple': 1, 'acknowledge': 1, 'publicly': 1, 'faced': 1, 'endeavor': 1, 'solidarity': 1, 'responded': 1, 'comment': 1, 'Farris': 1, 'pressure': 1, 'either': 1, 'appearance': 1, 'surprised': 1, 'helper': 1, 'grab': 1, 'chosen': 1, 'injure': 1, '5': 1, '6': 1, 'sort': 1, 'Terrell': 1, 'Walls': 1, 'respectful': 1, 'realizing': 1, 'inmate': 1, 'timers': 1, 'freeworld': 1, 'Selso': 1, 'Nuncio': 1, 'visit': 1, 'drove': 1, 'hereLester': 1, 'Byers': 1, 'Black': 1, 'Rosales': 1, 'Rock': 1, 'Raiders': 1, 'mumblesMoB': 1, 'Skains': 1, 'Attorneys': 1, 'Generals': 1, 'Sputnick': 1, 'sell': 1, 'hearing': 1, 'paper': 1, 'rebut': 1, 'contradict': 1, 'guy': 1, 'document': 1, 'signature': 1, 'Everybodys': 1, 'shame': 1, 'needAnd': 1, 'Abul': 1, 'Anitra': 1, 'entire': 1, 'concern': 1, 'genuine': 1, 'crucified': 1, 'Annie': 1, 'repent': 1, 'resurrected': 1, 'servant': 1, 'slave': 1, 'Margie': 1, 'McHenry': 1, 'Whatever': 1, 'Mamas': 1, 'assure': 1, 'Beatitudes': 1, 'lifted': 1, 'disciples': 1, 'separate': 1, 'company': 1, 'reproach': 1, 'Mans': 1, 'Rejoice': 1, 'leap': 1, 'reward': 1, 'woe': 1, 'rich': 1, 'consolation': 1, 'moan': 1, 'supremacy': 1, 'Chapter': 1, '48': 1, 'jealous': 1, 'brag': 1, 'arrogant': 1, 'unbecoming': 1, 'provoked': 1, 'bears': 1, 'endures': 1, 'abide': 1, 'Poem': 1, 'diamond': 1, 'glints': 1, 'snow': 1, 'sunlight': 1, 'ripened': 1, 'grain': 1, 'gentle': 1, 'autumn': 1, 'rain': 1, 'awaken': 1, 'mornings': 1, 'hush': 1, 'swift': 1, 'uplifting': 1, 'birds': 1, 'circled': 1, 'flight': 1, 'soft': 1, 'stars': 1, 'Signed': 1, '903': 1, 'Huntsville': 1, 'anticipated': 1, 'recite': 1, 'Testament': 1, 'Lukes': 1, 'anticipation': 1, 'fulfill': 1, 'available': 1, 'appear': 1, 'falling': 1, 'irreversible': 1, 'Patty': 1, 'expressing': 1, 'replace': 1, 'despicable': 1, 'bestow': 1, 'Patricia': 1, 'obtain': 1, 'Wardens': 1, 'ahh': 1, 'educated': 1, 'doctor': 1, 'tables': 1, 'scene': 1, 'guarantee': 1, 'fixin': 1, 'everybodys': 1, 'permission': 1, 'background': 1, 'Wherefore': 1, 'prepare': 1, 'chaplain': 1, 'Brazzil': 1, 'sincerest': 1, 'unnecessary': 1, 'rectify': 1, 'whenever': 1, 'diminished': 1, 'traveled': 1, 'far': 1, 'ordeal': 1, 'Oum': 1, 'Nama': 1, 'Shiveya': 1, 'chant': 1, 'proving': 1, 'acknowledged': 1, 'meeting': 1, 'fruit': 1, 'judgments': 1, 'definitely': 1, 'sick': 1, 'afraid': 1, 'dreaming': 1, 'alcohol': 1, 'Precious': 1, 'treasure': 1, 'madness': 1, 'trade': 1, 'Mark': 1, 'Fredericks': 1, 'health': 1, 'debt': 1, 'rebate': 1, 'refund': 1, 'Kami': 1, 'Appreciate': 1, 'Alison': 1, 'Strength': 1, 'Shawn': 1, 'Edwin': 1, 'ambitions': 1, 'chose': 1, 'satisfied': 1, 'acknowledging': 1, 'complaints': 1, 'doubts': 1, 'symptom': 1, 'bigger': 1, 'illness': 1, 'destroy': 1, 'countries': 1, 'ongoing': 1, 'embargo': 1, 'sanctions': 1, 'Iran': 1, 'Iraq': 1, 'Cuba': 1, 'harming': 1, 'Perhaps': 1, 'environment': 1, 'devastating': 1, 'direction': 1, 'result': 1, 'planet': 1, 'struggling': 1, 'existent': 1, 'institution': 1, 'institutions': 1, 'Observer': 1, 'informed': 1, 'specially': 1, 'Hawthorns': 1, 'based': 1, 'floor': 1, 'recent': 1, 'comments': 1, 'spin': 1, 'redoctor': 1, 'trials': 1, 'unforgivable': 1, 'tennis': 1, 'verify': 1, 'accountable': 1, 'except': 1, 'doodle': 1, 'bug': 1, 'outlining': 1, 'Youth': 1, 'Authority': 1, 'pin': 1, 'reformatory': 1, 'schools': 1, 'penitentiary': 1, 'monsters': 1, 'Isabel': 1, 'Early': 1, 'morning': 1, 'rise': 1, 'Thee': 1, 'Merciful': 1, 'sea': 1, 'debtors': 1, 'Thine': 1, 'Brotherinlaw': 1, 'Yoli': 1, 'German': 1, 'Menic': 1, 'schone': 1, 'prizessin': 1, 'Du': 1, 'herz': 1, 'seele': 1, 'rind': 1, 'ich': 1, 'liele': 1, 'dich': 1, 'sehm': 1, 'Translation': 1, 'causing': 1, 'Bruce': 1, 'instrumental': 1, 'Lang': 1, 'weeks': 1, 'donating': 1, 'science': 1, 'parts': 1, 'closing': 1, 'cowboys': 1, 'thirty': 1, 'Kathys': 1, 'attend': 1, 'dropping': 1, 'nightmare': 1, 'smiles': 1, 'ATW': 1, 'amigos': 1, 'motion': 1, 'quote': 1, 'Living': 1, 'Us': 1, 'Hours': 1, 'Ingram': 1, 'twenty': 1, 'regretful': 1, 'faces': 1, 'MexicoSpanish': 1, 'introduced': 1, 'paint': 1, 'picture': 1, 'testifying': 1, 'ol': 1, 'freaky': 1, 'deaky': 1, 'Clinton': 1, 'signed': 1, 'antiterrorism': 1, 'shorten': 1, 'foreign': 1, 'pubic': 1, 'belonged': 1, 'drop': 1, 'sposmosa': 1, 'crotch': 1, 'pants': 1, 'B': 1, 'indictment': 1, 'possession': 1, 'delivery': 1, 'Yet': 1, 'swore': 1, 'oath': 1, 'mattered': 1, 'highpriced': 1, 'prostitute': 1, 'sells': 1, 'highest': 1, 'bidder': 1, 'Penal': 1, 'Code': 1, 'remuneration': 1, 'alleged': 1, 'Sims': 1, 'cough': 1, 'Rosenbaum': 1, 'Clark': 1, 'offend': 1, 'led': 1, 'beloved': 1, 'miraculous': 1, 'TD': 1, 'Jay': 1, 'Burdge': 1, 'Elijah': 1, 'Though': 1, 'speed': 1, 'Remain': 1, 'ocean': 1, 'consciousness': 1, 'lips': 1, 'mankind': 1, 'Catharina': 1, 'issue': 1, 'sit': 1, 'looked': 1, 'desired': 1, 'Release': 1, '1231B': 1, '1313': 1, 'NIV': 1, 'excellent': 1, 'clanging': 1, 'cymbal': 1, 'fathom': 1, 'mysteries': 1, 'mountains': 1, 'possess': 1, 'flames': 1, 'envy': 1, 'boast': 1, 'rude': 1, 'selfseeking': 1, 'easily': 1, 'angered': 1, 'keeps': 1, 'delight': 1, 'protects': 1, 'trusts': 1, 'perseveres': 1, 'prophecies': 1, 'stilled': 1, 'prophesy': 1, 'perfection': 1, 'imperfect': 1, 'disappears': 1, 'reasoned': 1, 'childish': 1, 'reflection': 1, 'mirror': 1, 'Miguel': 1, 'Leslie': 1, 'Javier': 1, 'Cruz': 1, 'learning': 1, 'Little': 1, 'squashed': 1, 'speeches': 1, 'Est': 1, 'Sularus': 1, 'Oth': 1, 'Mithas': 1, 'Honor': 1, 'service': 1, 'Too': 1, 'shortly': 1, 'Collier': 1, 'conversion': 1, 'hire': 1, 'apologies': 1, 'ancestors': 1, 'honey': 1, 'impossible': 1, 'Thornton': 1, 'Deans': 1, 'Peggy': 1, 'Baggett': 1, 'speech': 1, 'surviving': 1, 'spite': 1, 'circumstances': 1, 'separated': 1, 'humans': 1, 'separates': 1, 'groups': 1, 'build': 1, 'remembered': 1, 'holidays': 1, 'birthdays': 1, '8': 1, '7': 1, 'threat': 1, 'Craft': 1, 'Bethrie': 1, 'Hanon': 1, 'illegible': 1, 'closeness': 1, 'using': 1, 'imprisoned': 1, 'sharing': 1, 'offered': 1, 'Stacey': 1, 'offense': 1, 'compensate': 1, 'proceeds': 1, 'contacting': 1, 'butterfly': 1, 'prepared': 1, 'Hancock': 1, 'Olga': 1, 'Brian': 1, 'Ana': 1, 'Chico': 1, 'nature': 1, 'Rise': 1, 'Hopefully': 1, 'cycle': 1, 'value': 1, 'seems': 1, 'experiences': 1, 'veterans': 1, 'lord': 1, 'pals': 1, 'Camille': 1, 'Tilling': 1, 'JoAnn': 1, 'Rita': 1, 'LORD': 1, 'Nora': 1, 'encouragement': 1, 'HEAVEN': 1, 'HEAVENLY': 1, 'FATHER': 1, 'JESUS': 1, 'CHRIST': 1, 'deathrows': 1, 'GODs': 1, 'Offenders': 1, 'JDs': 1, 'Sweet': 1, 'Honestly': 1, 'rage': 1, 'inexcusable': 1, 'mentally': 1, 'individual': 1, 'worthwhile': 1, 'Save': 1, 'sacrifice': 1, 'wealth': 1, 'key': 1, 'basis': 1, 'sense': 1, 'consider': 1, 'acceptance': 1, 'lays': 1, 'hears': 1, 'Fielder': 1, '18': 1, 'encourage': 1, 'Eden': 1, 'Patsy': 1, 'Buntion': 1, 'Gladys': 1, 'choice': 1, 'Shakespearean': 1, 'missed': 1, 'persuade': 1, 'discontinue': 1, 'citizens': 1, 'Hodges': 1, 'listened': 1, '510': 1, 'returned': 1, 'Kinnamon': 1, 'evidently': 1, 'mike': 1, 'Discontinue': 1, 'Specifically': 1, 'transformed': 1, 'creature': 1, 'Kings': 1, 'secure': 1, 'purely': 1, 'wholeheartedly': 1, 'wished': 1, 'Marta': 1, 'Glass': 1, 'Kuley': 1, 'conference': 1, 'McCarthy': 1, 'regarding': 1, 'mishap': 1, 'Iris': 1, 'Siff': 1, 'unintentional': 1, 'discomfort': 1, 'drawn': 1, 'disciple': 1, 'rescued': 1, 'wretched': 1, 'Ireland': 1, 'Certainly': 1, 'instrument': 1, 'devoted': 1, 'blind': 1, 'borderline': 1, 'retarded': 1, 'male': 1, 'felony': 1, 'contaminate': 1, 'TRUE': 1, 'add': 1, 'discriminates': 1, 'plus': 1, 'ALLWHITE': 1, 'JURY': 1, 'pile': 1, 'ineffective': 1, 'assistance': 1, 'counsel': 1, 'option': 1, 'rehabilitation': 1, 'persecute': 1, 'lasting': 1, 'againThis': 1, 'Killing': 1, 'Anil': 1, 'justifies': 1, 'Seeing': 1, 'Eyes': 1, 'Inmate': 1, 'Sometime': 1, 'lonesome': 1, 'dreams': 1, 'often': 1, 'hung': 1, 'thugs': 1, 'king': 1, 'capable': 1, 'ticking': 1, 'undone': 1, 'injection': 1, 'strife': 1, 'Wilkerson': 1, 'Winn': 1, 'breathe': 1, 'Merka': 1, 'plead': 1, '75': 1, '79': 1, 'Jim': 1, 'Peterson': 1, 'staying': 1, 'High': 1, 'Flight': 1, 'aviation': 1, 'Thanked': 1, 'bitches': 1, 'seemed': 1, 'Lock': 1, 'load': 1, 'expletive': 1, 'deleted': 1, 'lasted': 1, '3': 1, 'thanked': 1, 'Start': 1, 'rolling': 1, 'Mouthed': 1, 'copy': 1, 'proclaim': 1, 'Howard': 1, 'Otis': 1, 'cool': 1, 'entered': 1, 'chamber': 1, 'recited': 1, 'supreme': 1, 'DJ': 1, 'Laurie': 1, 'Wheat': 1, 'transgressions': 1, 'Sanders': 1, 'Blow': 1, 'thirteenyearold': 1, 'handcuffed': 1, 'drowned': 1, 'Jose': 1, 'Campo': 1, 'Torres': 1, 'threw': 1, 'river': 1, 'Americas': 1, 'Mexicans': 1, 'suspended': 1, 'probation': 1, 'tie': 1, 'stretcher': 1, 'anybodys': 1, 'door': 1, 'murderers': 1, 'truthfulness': 1, 'Allow': 1, 'showered': 1, 'replied': 1, 'doI': 1, 'witches': 1, 'burned': 1, 'stake': 1, 'Levins': 1, 'drive': 1, 'Bass': 1, 'Powell': 1, 'Then': 1, 'coughed': 1, 'transpire': 1, 'However': 1, 'errors': 1, 'Therefore': 1, 'Also': 1, '39': 1, 'respectively': 1, 'undying': 1, 'Ronald': 1, 'OBryan': 1, 'PS': 1, 'During': 1, 'personnel': 1, 'Media': 1, 'absolutely': 1, 'devout': 1, 'material': 1, 'preparing': 1, 'oneself': 1, 'becoming': 1, 'Muhammad': 1, 'messenger': 1, 'Inna': 1, 'liAllah': 1, 'wainna': 1, 'ilayhi': 1, 'rajiun': 1})\n"
     ]
    }
   ],
   "source": [
    "common_words = ['I', 'Im', 'to','yall','going','To','You','dont','Yes','And','The']\n",
    "for word in common_words:\n",
    "    stop_words.add(word)\n",
    "\n",
    "\n",
    "for word in stop_words:\n",
    "    if word in bag_of_words:\n",
    "        del bag_of_words[word]\n",
    "print(bag_of_words)"
   ]
  },
  {
   "cell_type": "code",
   "execution_count": 9,
   "metadata": {
    "collapsed": true
   },
   "outputs": [],
   "source": [
    "most_common = bag_of_words.most_common(30)"
   ]
  },
  {
   "cell_type": "code",
   "execution_count": 10,
   "metadata": {
    "collapsed": true
   },
   "outputs": [],
   "source": [
    "words = []\n",
    "counts = []\n",
    "\n",
    "for word in most_common:\n",
    "    words.append(word[0])\n",
    "    counts.append(word[1])\n",
    "    \n",
    "    "
   ]
  },
  {
   "cell_type": "code",
   "execution_count": 11,
   "metadata": {},
   "outputs": [
    {
     "data": {
      "text/plain": [
       "['love',\n",
       " 'family',\n",
       " 'know',\n",
       " 'sorry',\n",
       " 'want',\n",
       " 'would',\n",
       " 'like',\n",
       " 'God',\n",
       " 'say',\n",
       " 'thank',\n",
       " 'hope',\n",
       " 'life',\n",
       " 'Lord',\n",
       " 'forgive',\n",
       " 'Thank',\n",
       " 'people',\n",
       " 'peace',\n",
       " 'see',\n",
       " 'one',\n",
       " 'Jesus',\n",
       " 'Warden',\n",
       " 'done',\n",
       " 'take',\n",
       " 'tell',\n",
       " 'strong',\n",
       " 'pain',\n",
       " 'go',\n",
       " 'ready',\n",
       " 'heart',\n",
       " 'ask']"
      ]
     },
     "execution_count": 11,
     "metadata": {},
     "output_type": "execute_result"
    }
   ],
   "source": [
    "words"
   ]
  },
  {
   "cell_type": "code",
   "execution_count": null,
   "metadata": {},
   "outputs": [],
   "source": []
  },
  {
   "cell_type": "code",
   "execution_count": null,
   "metadata": {
    "collapsed": true
   },
   "outputs": [],
   "source": []
  }
 ],
 "metadata": {
  "kernelspec": {
   "display_name": "Python 3",
   "language": "python",
   "name": "python3"
  },
  "language_info": {
   "codemirror_mode": {
    "name": "ipython",
    "version": 3
   },
   "file_extension": ".py",
   "mimetype": "text/x-python",
   "name": "python",
   "nbconvert_exporter": "python",
   "pygments_lexer": "ipython3",
   "version": "3.6.3"
  }
 },
 "nbformat": 4,
 "nbformat_minor": 2
}
